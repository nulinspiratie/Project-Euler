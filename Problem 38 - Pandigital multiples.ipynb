{
 "metadata": {
  "name": "",
  "signature": "sha256:70aceb874f331130f52cc8a8a73d6a769b9a68d60660b4b81fbd73cc897fc207"
 },
 "nbformat": 3,
 "nbformat_minor": 0,
 "worksheets": [
  {
   "cells": [
    {
     "cell_type": "code",
     "collapsed": false,
     "input": [
      "import numpy as np"
     ],
     "language": "python",
     "metadata": {},
     "outputs": [],
     "prompt_number": 46
    },
    {
     "cell_type": "code",
     "collapsed": false,
     "input": [
      "def is_pandigital(num):\n",
      "    numstr = str(num)\n",
      "    return sorted(map(int,numstr)) == range(1,10)"
     ],
     "language": "python",
     "metadata": {},
     "outputs": [],
     "prompt_number": 47
    },
    {
     "cell_type": "code",
     "collapsed": false,
     "input": [
      "def joined_pandigital(num, n):\n",
      "    joinedstr = ''\n",
      "    for k in range(1,n+1):\n",
      "        joinedstr += str(num * k)\n",
      "    return int(joinedstr)"
     ],
     "language": "python",
     "metadata": {},
     "outputs": [],
     "prompt_number": 48
    },
    {
     "cell_type": "code",
     "collapsed": false,
     "input": [
      "solutions = []\n",
      "for num in np.arange(1,int(np.sqrt(10**9))):\n",
      "    n = 0\n",
      "    joined_num = num\n",
      "    while len(str(joined_num)) < 10:\n",
      "        n += 1\n",
      "        joined_num = joined_pandigital(num, n)\n",
      "        if is_pandigital(joined_num):\n",
      "            print 'Solution found for num:', num, '\\tn:', n, '\\tpandigital:', joined_num\n",
      "            solutions.append([num, n, joined_num])\n",
      "print '\\nMaximum pandigital number:',max(map(lambda x: x[2],solutions))"
     ],
     "language": "python",
     "metadata": {},
     "outputs": [
      {
       "output_type": "stream",
       "stream": "stdout",
       "text": [
        "Solution found for num: 1 \tn: 9 \tpandigital: 123456789\n",
        "Solution found for num: 9 \tn: 5 \tpandigital: 918273645\n",
        "Solution found for num:"
       ]
      },
      {
       "output_type": "stream",
       "stream": "stdout",
       "text": [
        " 192 \tn: 3 \tpandigital: 192384576\n",
        "Solution found for num: 219 \tn: 3 \tpandigital: 219438657\n",
        "Solution found for num:"
       ]
      },
      {
       "output_type": "stream",
       "stream": "stdout",
       "text": [
        " 273 \tn: 3 \tpandigital: 273546819\n",
        "Solution found for num: 327 \tn: 3 \tpandigital: 327654981\n",
        "Solution found for num:"
       ]
      },
      {
       "output_type": "stream",
       "stream": "stdout",
       "text": [
        " 6729 \tn: 2 \tpandigital: 672913458\n",
        "Solution found for num: 6792 \tn: 2 \tpandigital: 679213584\n",
        "Solution found for num:"
       ]
      },
      {
       "output_type": "stream",
       "stream": "stdout",
       "text": [
        " 6927 \tn: 2 \tpandigital: 692713854\n",
        "Solution found for num:"
       ]
      },
      {
       "output_type": "stream",
       "stream": "stdout",
       "text": [
        " 7269 \tn: 2 \tpandigital: 726914538\n",
        "Solution found for num: 7293 \tn: 2 \tpandigital: 729314586\n",
        "Solution found for num: 7329 \tn: 2 \tpandigital: 732914658\n",
        "Solution found for num:"
       ]
      },
      {
       "output_type": "stream",
       "stream": "stdout",
       "text": [
        " 7692 \tn: 2 \tpandigital: 769215384\n",
        "Solution found for num:"
       ]
      },
      {
       "output_type": "stream",
       "stream": "stdout",
       "text": [
        " 7923 \tn: 2 \tpandigital: 792315846\n",
        "Solution found for num: 7932 \tn: 2 \tpandigital: 793215864\n",
        "Solution found for num:"
       ]
      },
      {
       "output_type": "stream",
       "stream": "stdout",
       "text": [
        " 9267 \tn: 2 \tpandigital: 926718534\n",
        "Solution found for num: 9273 \tn: 2 \tpandigital: 927318546\n",
        "Solution found for num: 9327 \tn: 2 \tpandigital: 932718654\n",
        "\n",
        "Maximum pandigital number:"
       ]
      },
      {
       "output_type": "stream",
       "stream": "stdout",
       "text": [
        " 932718654\n"
       ]
      }
     ],
     "prompt_number": 49
    }
   ],
   "metadata": {}
  }
 ]
}