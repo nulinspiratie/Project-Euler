{
 "cells": [
  {
   "cell_type": "markdown",
   "metadata": {},
   "source": [
    "# Problem 53"
   ]
  },
  {
   "cell_type": "code",
   "execution_count": 2,
   "metadata": {
    "collapsed": true
   },
   "outputs": [],
   "source": [
    "from math import factorial\n",
    "\n",
    "def nCr(n, r):\n",
    "    return int(factorial(n)/(factorial(r)*factorial(n-r)))\n",
    "    \n",
    "def find_first_excess_r(n, minval):\n",
    "    r_min = 0\n",
    "    for r in range(1, int(n/2)):\n",
    "        if nCr(n, r) >= minval:\n",
    "            r_min = r\n",
    "            break\n",
    "    return r_min\n",
    "    \n",
    "def exceeding_r_values(n, minval):\n",
    "    r_min = find_first_excess_r(n, minval)\n",
    "    if r_min > 0:\n",
    "        assert(nCr(n, n-r_min) > minval)\n",
    "        assert(nCr(n, n-r_min+1) <= minval)\n",
    "        r_excess = range(r_min, n-r_min+1)\n",
    "    else:\n",
    "        r_excess = []\n",
    "    return r_excess"
   ]
  },
  {
   "cell_type": "code",
   "execution_count": 3,
   "metadata": {
    "collapsed": false
   },
   "outputs": [
    {
     "name": "stdout",
     "output_type": "stream",
     "text": [
      "4075\n"
     ]
    }
   ],
   "source": [
    "excess_values = 0\n",
    "for n in range(1,101):\n",
    "    excess_values += len(exceeding_r_values(n, 1000001))\n",
    "    \n",
    "print(excess_values)"
   ]
  }
 ],
 "metadata": {
  "anaconda-cloud": {},
  "kernelspec": {
   "display_name": "Python [Root]",
   "language": "python",
   "name": "Python [Root]"
  },
  "language_info": {
   "codemirror_mode": {
    "name": "ipython",
    "version": 3
   },
   "file_extension": ".py",
   "mimetype": "text/x-python",
   "name": "python",
   "nbconvert_exporter": "python",
   "pygments_lexer": "ipython3",
   "version": "3.5.2"
  }
 },
 "nbformat": 4,
 "nbformat_minor": 0
}
