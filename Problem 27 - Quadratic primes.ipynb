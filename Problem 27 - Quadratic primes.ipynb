{
 "metadata": {
  "name": "",
  "signature": "sha256:420f847cedc0e2dd61ba06264e74318366a7bc9b6fbf57518104bc120e40dd7c"
 },
 "nbformat": 3,
 "nbformat_minor": 0,
 "worksheets": [
  {
   "cells": [
    {
     "cell_type": "code",
     "collapsed": false,
     "input": [
      "import numpy as np"
     ],
     "language": "python",
     "metadata": {},
     "outputs": [],
     "prompt_number": 14
    },
    {
     "cell_type": "code",
     "collapsed": false,
     "input": [
      "def isprime(n, a, b):\n",
      "    num = n**2 + a*n + b\n",
      "    return num in primelst"
     ],
     "language": "python",
     "metadata": {},
     "outputs": [],
     "prompt_number": 15
    },
    {
     "cell_type": "code",
     "collapsed": false,
     "input": [
      "N=100000\n",
      "isprimelst = np.ones(N)\n",
      "isprimelst[:2] = [0,0]"
     ],
     "language": "python",
     "metadata": {},
     "outputs": [],
     "prompt_number": 16
    },
    {
     "cell_type": "code",
     "collapsed": false,
     "input": [
      "for k in range(N):\n",
      "    if isprimelst[k] == 1:\n",
      "        kk = 2\n",
      "        while kk * k < N:\n",
      "            isprimelst[k * kk] = 0\n",
      "            kk += 1\n",
      "primelst = np.where(isprimelst == 1)[0]"
     ],
     "language": "python",
     "metadata": {},
     "outputs": [],
     "prompt_number": 17
    },
    {
     "cell_type": "code",
     "collapsed": false,
     "input": [
      "maxcoeffind = 1000\n",
      "\n",
      "nmaxcoeff = [0,0]\n",
      "nmax = 0\n",
      "for a in range(-maxcoeffind, maxcoeffind):\n",
      "    for b in range(max(2,3-a), maxcoeffind):\n",
      "        n = 0\n",
      "        while isprime(n, a, b) is True:\n",
      "            n += 1\n",
      "        else:\n",
      "            if n > nmax:\n",
      "                nmax = n\n",
      "                nmaxcoeff = [a,b]\n",
      "print \"a=%s, b=%s, a*b = %s\" % (nmaxcoeff[0], nmaxcoeff[1], nmaxcoeff[0] * nmaxcoeff[1])"
     ],
     "language": "python",
     "metadata": {},
     "outputs": [
      {
       "output_type": "stream",
       "stream": "stdout",
       "text": [
        "a=-61, b=971, a*b = -59231\n"
       ]
      }
     ],
     "prompt_number": 25
    },
    {
     "cell_type": "code",
     "collapsed": false,
     "input": [
      "a,b = -61, 971\n",
      "while isprime(n, a, b) is True:\n",
      "    n += 1\n",
      "else:\n",
      "    print 'nmax:',n"
     ],
     "language": "python",
     "metadata": {},
     "outputs": [
      {
       "output_type": "stream",
       "stream": "stdout",
       "text": [
        "nmax: 71\n"
       ]
      }
     ],
     "prompt_number": 27
    }
   ],
   "metadata": {}
  }
 ]
}