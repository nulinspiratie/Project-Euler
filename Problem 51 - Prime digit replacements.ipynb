{
 "metadata": {
  "name": "",
  "signature": "sha256:df4f90ebfbd7a391549808479b2a011e515a063bab59111704998132297c11f5"
 },
 "nbformat": 3,
 "nbformat_minor": 0,
 "worksheets": [
  {
   "cells": [
    {
     "cell_type": "code",
     "collapsed": false,
     "input": [
      "import numpy as np"
     ],
     "language": "python",
     "metadata": {},
     "outputs": [],
     "prompt_number": 1
    },
    {
     "cell_type": "code",
     "collapsed": false,
     "input": [
      "N=10**4\n",
      "sievelist = np.ones(N)\n",
      "sievelist[:2] = [0,0]\n",
      "for k, isprime in enumerate(sievelist):\n",
      "    if isprime:\n",
      "        kk = 2*k\n",
      "        while kk < N:\n",
      "            sievelist[kk] = 0\n",
      "            kk += k\n",
      "            \n",
      "#set first thousand elements to zero\n",
      "sievelist[:1000] = 0\n",
      "primelist = np.nonzero(sievelist)[0]"
     ],
     "language": "python",
     "metadata": {},
     "outputs": []
    }
   ],
   "metadata": {}
  }
 ]
}