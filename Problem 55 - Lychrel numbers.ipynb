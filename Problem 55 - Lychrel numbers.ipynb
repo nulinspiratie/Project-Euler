{
 "cells": [
  {
   "cell_type": "code",
   "execution_count": 1,
   "metadata": {
    "collapsed": true
   },
   "outputs": [],
   "source": [
    "def reverse_number(number):\n",
    "    return int(str(number)[::-1])\n",
    "\n",
    "def add_reverse(number):\n",
    "    return number + reverse_number(number)\n",
    "    \n",
    "def is_palindromic(number):\n",
    "    return number == reverse_number(number)"
   ]
  },
  {
   "cell_type": "code",
   "execution_count": 3,
   "metadata": {
    "collapsed": false
   },
   "outputs": [
    {
     "name": "stdout",
     "output_type": "stream",
     "text": [
      "Lychrell numbers: 249\n"
     ]
    }
   ],
   "source": [
    "Lychrell_numbers = 0\n",
    "for number in range(10000):\n",
    "    sum_value = number\n",
    "    for i in range(50):\n",
    "        sum_value = sum_value + reverse_number(sum_value)\n",
    "        if is_palindromic(sum_value):\n",
    "            # print('{} is palindromic in {} iterations'.format(number, i+1))\n",
    "            break\n",
    "    if not is_palindromic(sum_value):\n",
    "        Lychrell_numbers += 1\n",
    "#         print('{} is a Lychrell number'.format(number))\n",
    "        \n",
    "print('Lychrell numbers: {}'.format(Lychrell_numbers))"
   ]
  }
 ],
 "metadata": {
  "kernelspec": {
   "display_name": "Python [Root]",
   "language": "python",
   "name": "Python [Root]"
  },
  "language_info": {
   "codemirror_mode": {
    "name": "ipython",
    "version": 3
   },
   "file_extension": ".py",
   "mimetype": "text/x-python",
   "name": "python",
   "nbconvert_exporter": "python",
   "pygments_lexer": "ipython3",
   "version": "3.5.2"
  }
 },
 "nbformat": 4,
 "nbformat_minor": 0
}
