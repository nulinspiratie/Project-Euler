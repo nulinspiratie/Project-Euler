{
 "metadata": {
  "name": "",
  "signature": "sha256:ea283e65ce7ffd90eeac3ea716512157dbc56ee0aa617f7d8deaa9f9d794b6a1"
 },
 "nbformat": 3,
 "nbformat_minor": 0,
 "worksheets": [
  {
   "cells": [
    {
     "cell_type": "code",
     "collapsed": false,
     "input": [
      "import numpy as np"
     ],
     "language": "python",
     "metadata": {},
     "outputs": [],
     "prompt_number": 1
    },
    {
     "cell_type": "code",
     "collapsed": false,
     "input": [
      "N=10**6\n",
      "sievelist = np.ones(N)\n",
      "sievelist[:2] = [0,0]\n",
      "for k, isprime in enumerate(sievelist):\n",
      "    if isprime:\n",
      "        kk = 2*k\n",
      "        while kk < N:\n",
      "            sievelist[kk] = 0\n",
      "            kk += k\n",
      "primelist = np.nonzero(sievelist)[0]\n",
      "\n",
      "maxprimesum = 2\n",
      "\n",
      "nmax = 1\n",
      "maxstartind = 200 #Can increase this number to continue checking up to a higher starting index\n",
      "for k, prime in enumerate(primelist[:maxstartind]):\n",
      "    primesum = sum(primelist[k:k+nmax])\n",
      "    kk = k + nmax\n",
      "    while primesum < N:\n",
      "        if kk >= len(primelist):\n",
      "            break\n",
      "        primesum += primelist[kk]\n",
      "        if primesum in primelist and (kk + 1 - k) > nmax:\n",
      "            nmax = (kk + 1 - k)\n",
      "            maxprimesum = primesum\n",
      "        kk +=1\n",
      "print 'Maximum number of consecutive digits: {}\\tTotal prime sum:{}'.format(nmax,maxprimesum)"
     ],
     "language": "python",
     "metadata": {},
     "outputs": [
      {
       "output_type": "stream",
       "stream": "stdout",
       "text": [
        "Maximum number of consecutive digits: 543\tTotal prime sum:997651\n"
       ]
      }
     ],
     "prompt_number": 14
    }
   ],
   "metadata": {}
  }
 ]
}