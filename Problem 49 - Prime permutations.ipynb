{
 "metadata": {
  "name": "",
  "signature": "sha256:c08ae79b0c5fb170ff75daf4067bccab7820a379b40c5bb34e116fec211efafc"
 },
 "nbformat": 3,
 "nbformat_minor": 0,
 "worksheets": [
  {
   "cells": [
    {
     "cell_type": "code",
     "collapsed": false,
     "input": [
      "import numpy as np"
     ],
     "language": "python",
     "metadata": {},
     "outputs": [],
     "prompt_number": 1
    },
    {
     "cell_type": "code",
     "collapsed": false,
     "input": [
      "def are_permutations(num1, num2):\n",
      "    return sorted(str(num1)) == sorted(str(num2))"
     ],
     "language": "python",
     "metadata": {},
     "outputs": [],
     "prompt_number": 17
    },
    {
     "cell_type": "code",
     "collapsed": false,
     "input": [
      "N=10**4\n",
      "sievelist = np.ones(N)\n",
      "sievelist[:2] = [0,0]\n",
      "for k, isprime in enumerate(sievelist):\n",
      "    if isprime:\n",
      "        kk = 2*k\n",
      "        while kk < N:\n",
      "            sievelist[kk] = 0\n",
      "            kk += k\n",
      "            \n",
      "#set first thousand elements to zero\n",
      "sievelist[:1000] = 0\n",
      "primelist = np.nonzero(sievelist)[0]"
     ],
     "language": "python",
     "metadata": {},
     "outputs": [],
     "prompt_number": 11
    },
    {
     "cell_type": "code",
     "collapsed": false,
     "input": [
      "for k, prime1 in enumerate(primelist):\n",
      "    for prime2 in primelist[k+1:]:\n",
      "        if are_permutations(prime1, prime2):\n",
      "            difference = prime2 - prime1\n",
      "            prime3 = prime2 + difference\n",
      "            if prime3 in primelist and are_permutations(prime1, prime3):\n",
      "                print 'Triplet found at:', prime1, prime2, prime3\n",
      "                print 'Concatenation: {}{}{}'.format(prime1, prime2, prime3)"
     ],
     "language": "python",
     "metadata": {},
     "outputs": [
      {
       "output_type": "stream",
       "stream": "stdout",
       "text": [
        "Triplet found at: 1487 4817 8147\n",
        "Concatenation: 148748178147\n",
        "Triplet found at:"
       ]
      },
      {
       "output_type": "stream",
       "stream": "stdout",
       "text": [
        " 2969 6299 9629\n",
        "Concatenation: 296962999629\n"
       ]
      }
     ],
     "prompt_number": 20
    },
    {
     "cell_type": "code",
     "collapsed": false,
     "input": [],
     "language": "python",
     "metadata": {},
     "outputs": []
    }
   ],
   "metadata": {}
  }
 ]
}