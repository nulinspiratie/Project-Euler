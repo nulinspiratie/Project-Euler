{
 "metadata": {
  "name": "",
  "signature": "sha256:4c2407e8e5a9f3161d7a8ea89718ab85795d825391179e64ff90679d8510a774"
 },
 "nbformat": 3,
 "nbformat_minor": 0,
 "worksheets": [
  {
   "cells": [
    {
     "cell_type": "code",
     "collapsed": false,
     "input": [
      "import numpy as np"
     ],
     "language": "python",
     "metadata": {},
     "outputs": [],
     "prompt_number": 1
    },
    {
     "cell_type": "code",
     "collapsed": false,
     "input": [
      "coins = [1,2,5,10,20,50,100,200]"
     ],
     "language": "python",
     "metadata": {},
     "outputs": [],
     "prompt_number": 2
    },
    {
     "cell_type": "code",
     "collapsed": false,
     "input": [
      "def loopcoin(index, startmoneyleft):\n",
      "    coinval = coins[index]\n",
      "    \n",
      "    matches = 0\n",
      "    if startmoneyleft % coinval == 0:\n",
      "        matches = 1\n",
      "    \n",
      "    if index != len(coins) - 1:\n",
      "        for numcoins in reversed(range(startmoneyleft / coinval)):\n",
      "            moneyleft = startmoneyleft - numcoins * coinval\n",
      "            matches += loopcoin(index + 1, moneyleft)\n",
      "    return matches"
     ],
     "language": "python",
     "metadata": {},
     "outputs": [],
     "prompt_number": 37
    },
    {
     "cell_type": "code",
     "collapsed": false,
     "input": [
      "loopcoin(0,200)"
     ],
     "language": "python",
     "metadata": {},
     "outputs": [
      {
       "metadata": {},
       "output_type": "pyout",
       "prompt_number": 38,
       "text": [
        "73682"
       ]
      }
     ],
     "prompt_number": 38
    }
   ],
   "metadata": {}
  }
 ]
}