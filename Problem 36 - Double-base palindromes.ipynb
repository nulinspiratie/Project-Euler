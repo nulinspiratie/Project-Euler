{
 "metadata": {
  "name": "",
  "signature": "sha256:2e4e35625f9655f13b555dd449e000e0f70f37d1b04efee9327f45d5720517ca"
 },
 "nbformat": 3,
 "nbformat_minor": 0,
 "worksheets": [
  {
   "cells": [
    {
     "cell_type": "code",
     "collapsed": false,
     "input": [
      "import numpy as np"
     ],
     "language": "python",
     "metadata": {},
     "outputs": [],
     "prompt_number": 23
    },
    {
     "cell_type": "code",
     "collapsed": false,
     "input": [
      "def int_to_bin(num):\n",
      "    return int(bin(num)[2:])"
     ],
     "language": "python",
     "metadata": {},
     "outputs": [],
     "prompt_number": 24
    },
    {
     "cell_type": "code",
     "collapsed": false,
     "input": [
      "def is_palindrome(num):\n",
      "    numstr = str(num)\n",
      "    numrev = int(numstr[::-1])\n",
      "    if num == numrev:\n",
      "        return True\n",
      "    else:\n",
      "        return False"
     ],
     "language": "python",
     "metadata": {},
     "outputs": [],
     "prompt_number": 25
    },
    {
     "cell_type": "code",
     "collapsed": false,
     "input": [
      "solutions = []\n",
      "for num in np.arange(10**6):\n",
      "    if is_palindrome(num):\n",
      "        numbin = int_to_bin(num)\n",
      "        if is_palindrome(numbin):\n",
      "            solutions.append(num)\n",
      "            print 'Solution found:',num, '\\tbinary format:', numbin\n",
      "print 'Sum of solutions:',sum(solutions)"
     ],
     "language": "python",
     "metadata": {},
     "outputs": [
      {
       "output_type": "stream",
       "stream": "stdout",
       "text": [
        "Solution found: 0 \tbinary format: 0\n",
        "Solution found: 1 \tbinary format: 1\n",
        "Solution found: 3 \tbinary format: 11\n",
        "Solution found: 5 \tbinary format: 101\n",
        "Solution found: 7 \tbinary format: 111\n",
        "Solution found: 9 \tbinary format: 1001\n",
        "Solution found: 33 \tbinary format: 100001\n",
        "Solution found: 99 \tbinary format: 1100011\n",
        "Solution found: 313 \tbinary format: 100111001\n",
        "Solution found: 585 \tbinary format: 1001001001\n",
        "Solution found: 717 \tbinary format: 1011001101\n",
        "Solution found:"
       ]
      },
      {
       "output_type": "stream",
       "stream": "stdout",
       "text": [
        " 7447 \tbinary format: 1110100010111\n",
        "Solution found: 9009 \tbinary format: 10001100110001\n",
        "Solution found:"
       ]
      },
      {
       "output_type": "stream",
       "stream": "stdout",
       "text": [
        " 15351 \tbinary format: 11101111110111\n",
        "Solution found:"
       ]
      },
      {
       "output_type": "stream",
       "stream": "stdout",
       "text": [
        " 32223 \tbinary format: 111110111011111\n",
        "Solution found:"
       ]
      },
      {
       "output_type": "stream",
       "stream": "stdout",
       "text": [
        " 39993 \tbinary format: 1001110000111001\n",
        "Solution found:"
       ]
      },
      {
       "output_type": "stream",
       "stream": "stdout",
       "text": [
        " 53235 \tbinary format: 1100111111110011\n",
        "Solution found: 53835 \tbinary format: 1101001001001011\n",
        "Solution found:"
       ]
      },
      {
       "output_type": "stream",
       "stream": "stdout",
       "text": [
        " 73737 \tbinary format: 10010000000001001\n",
        "Solution found:"
       ]
      },
      {
       "output_type": "stream",
       "stream": "stdout",
       "text": [
        " 585585 \tbinary format: 10001110111101110001\n",
        "Sum of solutions:"
       ]
      },
      {
       "output_type": "stream",
       "stream": "stdout",
       "text": [
        " 872187\n"
       ]
      }
     ],
     "prompt_number": 27
    }
   ],
   "metadata": {}
  }
 ]
}