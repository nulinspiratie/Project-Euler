{
 "metadata": {
  "name": "",
  "signature": "sha256:8352b2459710b4c65bd2e9db8c765beb84b23387424c6a549e3c687ee9ae3cae"
 },
 "nbformat": 3,
 "nbformat_minor": 0,
 "worksheets": [
  {
   "cells": [
    {
     "cell_type": "code",
     "collapsed": false,
     "input": [
      "import numpy as np"
     ],
     "language": "python",
     "metadata": {},
     "outputs": [],
     "prompt_number": 1
    },
    {
     "cell_type": "code",
     "collapsed": false,
     "input": [
      "def is_permutation(num, n):\n",
      "    return sorted(str(num)) == sorted(str(num * n))"
     ],
     "language": "python",
     "metadata": {},
     "outputs": [],
     "prompt_number": 2
    },
    {
     "cell_type": "code",
     "collapsed": false,
     "input": [
      "for num in range(1,1000000):\n",
      "    n = 1\n",
      "    while is_permutation(num, n):\n",
      "        n += 1\n",
      "    if n >= 6:\n",
      "        print 'Found permuted multiple. Num:', num, 'n:', n"
     ],
     "language": "python",
     "metadata": {},
     "outputs": [
      {
       "output_type": "stream",
       "stream": "stdout",
       "text": [
        "Found permuted multiple. Num: 142857 n: 7\n"
       ]
      }
     ],
     "prompt_number": 7
    }
   ],
   "metadata": {}
  }
 ]
}