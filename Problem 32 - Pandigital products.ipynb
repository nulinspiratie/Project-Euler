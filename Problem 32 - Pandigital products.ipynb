{
 "metadata": {
  "name": "",
  "signature": "sha256:e92725ad3f68ffaf1eaeea70117a976455d7a4fa62c5129d7adbd064c4ef6145"
 },
 "nbformat": 3,
 "nbformat_minor": 0,
 "worksheets": [
  {
   "cells": [
    {
     "cell_type": "code",
     "collapsed": false,
     "input": [
      "import numpy as np\n",
      "from itertools import permutations"
     ],
     "language": "python",
     "metadata": {},
     "outputs": [],
     "prompt_number": 2
    },
    {
     "cell_type": "code",
     "collapsed": false,
     "input": [
      "numlst = range(1,10)\n",
      "permlst = list(permutations(numlst))"
     ],
     "language": "python",
     "metadata": {},
     "outputs": [],
     "prompt_number": 3
    },
    {
     "cell_type": "code",
     "collapsed": false,
     "input": [
      "lst_to_int = lambda lst: int(reduce(lambda a,b: str(a) + str(b),lst))"
     ],
     "language": "python",
     "metadata": {},
     "outputs": [],
     "prompt_number": 10
    },
    {
     "cell_type": "code",
     "collapsed": false,
     "input": [
      "solutions = []\n",
      "for perm in permlst:\n",
      "    #print perm\n",
      "    for left in range(1,4):\n",
      "        numsleft = 9 - left\n",
      "        for middle in range(left + left,left + numsleft / 2 + 1):\n",
      "            a = lst_to_int(perm[:left])\n",
      "            b = lst_to_int(perm[left:middle])\n",
      "            c = lst_to_int(perm[middle:])\n",
      "            if a * b == c:\n",
      "                solutions.append([a,b,c])\n",
      "                print '%d * %d = %d' % (a, b, c)\n",
      "            else:\n",
      "                pass\n",
      "                #print '%d * %d != %d' % (a, b, c)\n",
      "print 'Solutions:',len(solutions)\n",
      "print 'Unique solutions:',len(set(solutions))\n",
      "print 'Sum of products:', sum(set(map(lambda x: x[2], solutions)))"
     ],
     "language": "python",
     "metadata": {},
     "outputs": [
      {
       "output_type": "stream",
       "stream": "stdout",
       "text": [
        "12 * 483 = 5796\n",
        "18 * 297 = 5346"
       ]
      },
      {
       "output_type": "stream",
       "stream": "stdout",
       "text": [
        "\n",
        "27 * 198 = 5346"
       ]
      },
      {
       "output_type": "stream",
       "stream": "stdout",
       "text": [
        "\n",
        "28 * 157 = 4396"
       ]
      },
      {
       "output_type": "stream",
       "stream": "stdout",
       "text": [
        "\n",
        "39 * 186 = 7254"
       ]
      },
      {
       "output_type": "stream",
       "stream": "stdout",
       "text": [
        "\n",
        "4 * 1738 = 6952"
       ]
      },
      {
       "output_type": "stream",
       "stream": "stdout",
       "text": [
        "\n",
        "4 * 1963 = 7852"
       ]
      },
      {
       "output_type": "stream",
       "stream": "stdout",
       "text": [
        "\n",
        "42 * 138 = 5796"
       ]
      },
      {
       "output_type": "stream",
       "stream": "stdout",
       "text": [
        "\n",
        "48 * 159 = 7632"
       ]
      },
      {
       "output_type": "stream",
       "stream": "stdout",
       "text": [
        "\n"
       ]
      }
     ],
     "prompt_number": 25
    }
   ],
   "metadata": {}
  }
 ]
}