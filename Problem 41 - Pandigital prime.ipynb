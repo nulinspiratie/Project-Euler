{
 "metadata": {
  "name": "",
  "signature": "sha256:001a1a2b5240e45ce631b0efb709308ba4c59c94f4137615ddfbfa34d9eddfb5"
 },
 "nbformat": 3,
 "nbformat_minor": 0,
 "worksheets": [
  {
   "cells": [
    {
     "cell_type": "code",
     "collapsed": false,
     "input": [
      "import numpy as np"
     ],
     "language": "python",
     "metadata": {},
     "outputs": [],
     "prompt_number": 30
    },
    {
     "cell_type": "code",
     "collapsed": false,
     "input": [
      "def ispandigital(num):\n",
      "    numstr = str(num)\n",
      "    digits = len(numstr)\n",
      "    return sorted(numstr) == [str(digit) for digit in range(1,digits + 1)]"
     ],
     "language": "python",
     "metadata": {},
     "outputs": [],
     "prompt_number": 31
    },
    {
     "cell_type": "code",
     "collapsed": false,
     "input": [
      "N=10**7\n",
      "sievelist = np.ones(N)\n",
      "sievelist[:2] = [0,0]\n",
      "for k, isprime in enumerate(sievelist):\n",
      "    if isprime:\n",
      "        kk = 2*k\n",
      "        while kk < N:\n",
      "            sievelist[kk] = 0\n",
      "            kk += k\n",
      "primelist = np.nonzero(sievelist)[0]"
     ],
     "language": "python",
     "metadata": {},
     "outputs": [],
     "prompt_number": 36
    },
    {
     "cell_type": "code",
     "collapsed": false,
     "input": [
      "pandigitalindices = np.nonzero(map(ispandigital,primelist))[0]\n",
      "np.take(primelist, pandigitalindices)[-1]"
     ],
     "language": "python",
     "metadata": {},
     "outputs": [
      {
       "metadata": {},
       "output_type": "pyout",
       "prompt_number": 38,
       "text": [
        "7652413"
       ]
      }
     ],
     "prompt_number": 38
    }
   ],
   "metadata": {}
  }
 ]
}