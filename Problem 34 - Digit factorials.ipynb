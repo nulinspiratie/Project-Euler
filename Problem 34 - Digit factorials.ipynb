{
 "metadata": {
  "name": "",
  "signature": "sha256:df56f709a1e18091dad55095e64aa4e1522d07a86a65da260f2f714250eeb2a8"
 },
 "nbformat": 3,
 "nbformat_minor": 0,
 "worksheets": [
  {
   "cells": [
    {
     "cell_type": "code",
     "collapsed": false,
     "input": [
      "import numpy as np\n",
      "from math import factorial"
     ],
     "language": "python",
     "metadata": {},
     "outputs": [],
     "prompt_number": 7
    },
    {
     "cell_type": "code",
     "collapsed": false,
     "input": [
      "flist = [factorial(x) for x in range(10)]"
     ],
     "language": "python",
     "metadata": {},
     "outputs": [],
     "prompt_number": 8
    },
    {
     "cell_type": "code",
     "collapsed": false,
     "input": [
      "def factorial_sum(x):\n",
      "    xstr = str(x)\n",
      "    felems = [flist[int(k)] for k in xstr]\n",
      "    return sum(felems)"
     ],
     "language": "python",
     "metadata": {},
     "outputs": [],
     "prompt_number": 9
    },
    {
     "cell_type": "code",
     "collapsed": false,
     "input": [
      "def find_factorial_sums(kmax):\n",
      "    solutions = []\n",
      "    for k in range(10,kmax):\n",
      "        kfactsum = factorial_sum(k)\n",
      "        if kfactsum == k:\n",
      "            print 'Found digit factorial:',k\n",
      "            solutions.append(k)\n",
      "    return sum(solutions)"
     ],
     "language": "python",
     "metadata": {},
     "outputs": [],
     "prompt_number": 10
    },
    {
     "cell_type": "code",
     "collapsed": false,
     "input": [
      "find_factorial_sums(10**6)"
     ],
     "language": "python",
     "metadata": {},
     "outputs": [
      {
       "output_type": "stream",
       "stream": "stdout",
       "text": [
        "Found digit factorial: 145\n",
        "Found digit factorial:"
       ]
      },
      {
       "output_type": "stream",
       "stream": "stdout",
       "text": [
        " 40585\n"
       ]
      },
      {
       "metadata": {},
       "output_type": "pyout",
       "prompt_number": 11,
       "text": [
        "40730"
       ]
      }
     ],
     "prompt_number": 11
    }
   ],
   "metadata": {}
  }
 ]
}